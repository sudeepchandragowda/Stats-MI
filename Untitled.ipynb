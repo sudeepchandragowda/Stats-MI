{
 "cells": [
  {
   "cell_type": "code",
   "execution_count": 1,
   "id": "e2ece710-cba6-44c4-95e4-45906480ece5",
   "metadata": {},
   "outputs": [
    {
     "name": "stdout",
     "output_type": "stream",
     "text": [
      "Customer_ID            int64\n",
      "Age                    int64\n",
      "Income                 int64\n",
      "Product_Category      object\n",
      "Satisfaction_Level    object\n",
      "dtype: object\n"
     ]
    }
   ],
   "source": [
    "import pandas as pd\n",
    "\n",
    "# Sample dataset\n",
    "data = {\n",
    "    'Customer_ID': [101, 102, 103, 104],\n",
    "    'Age': [25, 34, 29, 42],         # Numerical (Discrete)\n",
    "    'Income': [50000, 72000, 48000, 96000],  # Numerical (Continuous)\n",
    "    'Product_Category': ['Electronics', 'Clothing', 'Furniture', 'Clothing'],  # Categorical (Nominal)\n",
    "    'Satisfaction_Level': ['High', 'Medium', 'Low', 'High']  # Categorical (Ordinal)\n",
    "}\n",
    "\n",
    "df = pd.DataFrame(data)\n",
    "\n",
    "# Checking data types\n",
    "print(df.dtypes)\n"
   ]
  },
  {
   "cell_type": "code",
   "execution_count": 1,
   "id": "e9049906-6488-492f-bcb9-c0284ac3f40e",
   "metadata": {},
   "outputs": [
    {
     "name": "stdout",
     "output_type": "stream",
     "text": [
      "Mean: 333.3333333333333\n",
      "Median: 350.0\n",
      "Mode: 500\n"
     ]
    }
   ],
   "source": [
    "import numpy as np\n",
    "import statistics as stats\n",
    "\n",
    "\n",
    "# Finding Mean, Median and Mode \n",
    "data = [100, 200, 300, 400, 500, 500]\n",
    "\n",
    "mean_value = np.mean(data)\n",
    "median_value = np.median(data)\n",
    "mode_value = stats.mode(data)\n",
    "\n",
    "print(f\"Mean: {mean_value}\")\n",
    "print(f\"Median: {median_value}\")\n",
    "print(f\"Mode: {mode_value}\")"
   ]
  },
  {
   "cell_type": "code",
   "execution_count": 3,
   "id": "da6d7389-d810-448b-abec-f8be0990ec0e",
   "metadata": {},
   "outputs": [
    {
     "name": "stdout",
     "output_type": "stream",
     "text": [
      "Range Value: 40\n",
      "Variance: 200.0\n",
      "Standard Deviation Value: 14.142135623730951\n"
     ]
    }
   ],
   "source": [
    "data = [10, 20, 30, 40, 50]\n",
    "\n",
    "range_value = np.max(data)-np.min(data)\n",
    "\n",
    "variance_value = np.var(data)\n",
    "\n",
    "std_dev_value = np.std(data)\n",
    "\n",
    "\n",
    "print(f\"Range Value: {range_value}\")\n",
    "print(f\"Variance: {variance_value}\")\n",
    "print(f\"Standard Deviation Value: {std_dev_value}\")"
   ]
  },
  {
   "cell_type": "code",
   "execution_count": 9,
   "id": "00070815-6472-4330-8e17-97740ab5279f",
   "metadata": {},
   "outputs": [
    {
     "name": "stdout",
     "output_type": "stream",
     "text": [
      "Mean: 30.2\n",
      "Variance: 1220.96\n",
      "Standard Deviation Value: 34.94223805081752\n",
      "Z-Scores: [-0.5780969144169457, -0.5208595961578422, -0.4636222778987386, -0.4350036187691868, 1.9975824072427133]\n",
      "Outliers: []\n"
     ]
    }
   ],
   "source": [
    "from scipy import stats\n",
    "\n",
    "data = [10, 12, 14, 15, 100] # Example dataset\n",
    "\n",
    "# Calculate mean and standard deviation\n",
    "mean_value = np.mean(data)\n",
    "variance_value = np.var(data)\n",
    "std_dev_value = np.std(data)\n",
    "\n",
    "z_scores = [(x-mean_value)/std_dev_value for x in data]\n",
    "\n",
    "mean_value = np.mean(data)\n",
    "\n",
    "# Identifying outliers (|Z| > 3)\n",
    "\n",
    "outliers = [data[i] for i in range(len(z_scores)) if abs(z_scores[i]) > 3]\n",
    "\n",
    "print(f\"Mean: {mean_value}\")\n",
    "print(f\"Variance: {variance_value}\")\n",
    "print(f\"Standard Deviation Value: {std_dev_value}\")\n",
    "print(f\"Z-Scores: {z_scores}\")\n",
    "print(f\"Outliers: {outliers}\")\n"
   ]
  },
  {
   "cell_type": "code",
   "execution_count": null,
   "id": "de36d4b9-21f4-40f0-a41a-51950dc69dc3",
   "metadata": {},
   "outputs": [],
   "source": []
  }
 ],
 "metadata": {
  "kernelspec": {
   "display_name": "Python [conda env:base] *",
   "language": "python",
   "name": "conda-base-py"
  },
  "language_info": {
   "codemirror_mode": {
    "name": "ipython",
    "version": 3
   },
   "file_extension": ".py",
   "mimetype": "text/x-python",
   "name": "python",
   "nbconvert_exporter": "python",
   "pygments_lexer": "ipython3",
   "version": "3.12.7"
  }
 },
 "nbformat": 4,
 "nbformat_minor": 5
}
