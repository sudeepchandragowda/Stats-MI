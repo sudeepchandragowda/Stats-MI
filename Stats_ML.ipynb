{
 "cells": [
  {
   "cell_type": "code",
   "execution_count": 1,
   "id": "e2ece710-cba6-44c4-95e4-45906480ece5",
   "metadata": {},
   "outputs": [
    {
     "name": "stdout",
     "output_type": "stream",
     "text": [
      "Customer_ID            int64\n",
      "Age                    int64\n",
      "Income                 int64\n",
      "Product_Category      object\n",
      "Satisfaction_Level    object\n",
      "dtype: object\n"
     ]
    }
   ],
   "source": [
    "import pandas as pd\n",
    "\n",
    "# Sample dataset\n",
    "data = {\n",
    "    'Customer_ID': [101, 102, 103, 104],\n",
    "    'Age': [25, 34, 29, 42],         # Numerical (Discrete)\n",
    "    'Income': [50000, 72000, 48000, 96000],  # Numerical (Continuous)\n",
    "    'Product_Category': ['Electronics', 'Clothing', 'Furniture', 'Clothing'],  # Categorical (Nominal)\n",
    "    'Satisfaction_Level': ['High', 'Medium', 'Low', 'High']  # Categorical (Ordinal)\n",
    "}\n",
    "\n",
    "df = pd.DataFrame(data)\n",
    "\n",
    "# Checking data types\n",
    "print(df.dtypes)\n"
   ]
  },
  {
   "cell_type": "code",
   "execution_count": 1,
   "id": "e9049906-6488-492f-bcb9-c0284ac3f40e",
   "metadata": {},
   "outputs": [
    {
     "name": "stdout",
     "output_type": "stream",
     "text": [
      "Mean: 333.3333333333333\n",
      "Median: 350.0\n",
      "Mode: 500\n"
     ]
    }
   ],
   "source": [
    "import numpy as np\n",
    "import statistics as stats\n",
    "\n",
    "\n",
    "# Finding Mean, Median and Mode \n",
    "data = [100, 200, 300, 400, 500, 500]\n",
    "\n",
    "mean_value = np.mean(data)\n",
    "median_value = np.median(data)\n",
    "mode_value = stats.mode(data)\n",
    "\n",
    "print(f\"Mean: {mean_value}\")\n",
    "print(f\"Median: {median_value}\")\n",
    "print(f\"Mode: {mode_value}\")"
   ]
  },
  {
   "cell_type": "code",
   "execution_count": 3,
   "id": "da6d7389-d810-448b-abec-f8be0990ec0e",
   "metadata": {},
   "outputs": [
    {
     "name": "stdout",
     "output_type": "stream",
     "text": [
      "Range Value: 40\n",
      "Variance: 200.0\n",
      "Standard Deviation Value: 14.142135623730951\n"
     ]
    }
   ],
   "source": [
    "data = [10, 20, 30, 40, 50]\n",
    "\n",
    "range_value = np.max(data)-np.min(data)\n",
    "\n",
    "variance_value = np.var(data)\n",
    "\n",
    "std_dev_value = np.std(data)\n",
    "\n",
    "\n",
    "print(f\"Range Value: {range_value}\")\n",
    "print(f\"Variance: {variance_value}\")\n",
    "print(f\"Standard Deviation Value: {std_dev_value}\")"
   ]
  },
  {
   "cell_type": "code",
   "execution_count": 9,
   "id": "00070815-6472-4330-8e17-97740ab5279f",
   "metadata": {},
   "outputs": [
    {
     "name": "stdout",
     "output_type": "stream",
     "text": [
      "Mean: 30.2\n",
      "Variance: 1220.96\n",
      "Standard Deviation Value: 34.94223805081752\n",
      "Z-Scores: [-0.5780969144169457, -0.5208595961578422, -0.4636222778987386, -0.4350036187691868, 1.9975824072427133]\n",
      "Outliers: []\n"
     ]
    }
   ],
   "source": [
    "from scipy import stats\n",
    "\n",
    "data = [10, 12, 14, 15, 100] # Example dataset\n",
    "\n",
    "# Calculate mean and standard deviation\n",
    "mean_value = np.mean(data)\n",
    "variance_value = np.var(data)\n",
    "std_dev_value = np.std(data)\n",
    "\n",
    "z_scores = [(x-mean_value)/std_dev_value for x in data]\n",
    "\n",
    "mean_value = np.mean(data)\n",
    "\n",
    "# Identifying outliers (|Z| > 3)\n",
    "\n",
    "outliers = [data[i] for i in range(len(z_scores)) if abs(z_scores[i]) > 3]\n",
    "\n",
    "print(f\"Mean: {mean_value}\")\n",
    "print(f\"Variance: {variance_value}\")\n",
    "print(f\"Standard Deviation Value: {std_dev_value}\")\n",
    "print(f\"Z-Scores: {z_scores}\")\n",
    "print(f\"Outliers: {outliers}\")\n"
   ]
  },
  {
   "cell_type": "code",
   "execution_count": 15,
   "id": "de36d4b9-21f4-40f0-a41a-51950dc69dc3",
   "metadata": {},
   "outputs": [
    {
     "name": "stdout",
     "output_type": "stream",
     "text": [
      "Skewness: 1.4909102553892999\n",
      "Kurtosis: 0.23801478447622726\n"
     ]
    }
   ],
   "source": [
    "import numpy as np\n",
    "from scipy.stats import skew, kurtosis\n",
    "\n",
    "data = [10, 12, 14, 15, 100]  # Example dataset\n",
    "\n",
    "# Skewness\n",
    "skewness_value = skew(data)\n",
    "\n",
    "# Kurtosis\n",
    "kurtosis_value = kurtosis(data)\n",
    "\n",
    "print(f\"Skewness: {skewness_value}\")\n",
    "print(f\"Kurtosis: {kurtosis_value}\")"
   ]
  },
  {
   "cell_type": "code",
   "execution_count": 41,
   "id": "17ed6fd2-784a-4a85-b832-00077a24df6a",
   "metadata": {},
   "outputs": [
    {
     "name": "stdout",
     "output_type": "stream",
     "text": [
      "Probability of Heads:  50.1%\n",
      "Probability of Tails:  49.9%\n"
     ]
    }
   ],
   "source": [
    "import numpy as np\n",
    "\n",
    "# Simulating 1000 coin tosses\n",
    "np.random.seed(42)  # For consistent results\n",
    "coin_tosses = np.random.choice(['H', 'T'], size=10000)\n",
    "\n",
    "# Counting occurrences\n",
    "heads_count = np.sum(coin_tosses == 'H')\n",
    "tails_count = np.sum(coin_tosses == 'T')\n",
    "\n",
    "# Calculating probabilities\n",
    "P_heads = heads_count / 10000 \n",
    "P_tails = tails_count / 10000\n",
    "\n",
    "print(f\"Probability of Heads: {P_heads: ,.1%}\")\n",
    "print(f\"Probability of Tails: {P_tails: ,.1%}\")"
   ]
  },
  {
   "cell_type": "code",
   "execution_count": 43,
   "id": "654a4281-f2a3-4c79-b9f6-820070a0ca8d",
   "metadata": {},
   "outputs": [
    {
     "name": "stdout",
     "output_type": "stream",
     "text": [
      "P(Red) = 0.405\n",
      "P(Blue | Red) = 0.3037037037037037\n"
     ]
    }
   ],
   "source": [
    "import numpy as np\n",
    "\n",
    "# Bag contains 4 red, 3 blue, and 3 green balls (Total = 10 balls)\n",
    "bag = ['Red'] * 4 + ['Blue'] * 3 + ['Green'] * 3\n",
    "np.random.seed(42)\n",
    "\n",
    "# Simulating 1000 draws with replacement\n",
    "draws = np.random.choice(bag, size=1000)\n",
    "\n",
    "# Probability of drawing a red ball\n",
    "P_Red = np.sum(draws == 'Red') / 1000\n",
    "\n",
    "# Probability of drawing a blue ball given that the first draw was red\n",
    "draws_2nd = np.random.choice(bag, size=1000)\n",
    "P_Blue_given_Red = np.sum((draws == 'Red') & (draws_2nd == 'Blue')) / np.sum(draws == 'Red')\n",
    "\n",
    "print(f\"P(Red) = {P_Red}\")\n",
    "print(f\"P(Blue | Red) = {P_Blue_given_Red}\")\n"
   ]
  },
  {
   "cell_type": "code",
   "execution_count": 45,
   "id": "b9ee0435-262b-443c-a528-9b9128e31be0",
   "metadata": {},
   "outputs": [
    {
     "data": {
      "image/png": "[encoded data removed]",
      "text/plain": [
       "<Figure size 640x480 with 1 Axes>"
      ]
     },
     "metadata": {},
     "output_type": "display_data"
    }
   ],
   "source": [
    "import numpy as np\n",
    "import matplotlib.pyplot as plt\n",
    "import seaborn as sns\n",
    "\n",
    "# Generating 10000 random numbers from a normal distribution (Mean=50, Std Dev=10)\n",
    "np.random.seed(42)\n",
    "data = np.random.normal(loc=50, scale=10, size=10000)\n",
    "\n",
    "# Plotting the distribution\n",
    "sns.histplot(data, bins=50, kde=True, color='blue')\n",
    "plt.xlabel('Value')\n",
    "plt.ylabel('Frequency')\n",
    "plt.title('Normal Distribution (Mean=50, Std Dev=10)')\n",
    "plt.show()"
   ]
  },
  {
   "cell_type": "code",
   "execution_count": 47,
   "id": "25499456-2795-4d4c-a220-60f8f644de9d",
   "metadata": {},
   "outputs": [
    {
     "name": "stdout",
     "output_type": "stream",
     "text": [
      "Probability of getting exactly 10 heads in 20 flips: 0.1762\n"
     ]
    }
   ],
   "source": [
    "from scipy.stats import binom\n",
    "\n",
    "# Probability of getting exactly 10 heads in 20 flips\n",
    "n, p = 20, 0.5\n",
    "P_10_heads = binom.pmf(10, n, p)\n",
    "print(f\"Probability of getting exactly 10 heads in 20 flips: {P_10_heads:.4f}\")\n"
   ]
  },
  {
   "cell_type": "code",
   "execution_count": 51,
   "id": "e15e1518-547c-425c-b95e-4bbd939831a7",
   "metadata": {},
   "outputs": [
    {
     "name": "stdout",
     "output_type": "stream",
     "text": [
      "Probability of exactly 4 calls in a minute: 0.1042\n"
     ]
    }
   ],
   "source": [
    "from scipy.stats import poisson\n",
    "\n",
    "# Average rate of events (lambda = 2 calls per minute)\n",
    "lambda_ = 4\n",
    "\n",
    "# Probability of exactly 4 calls in a minute\n",
    "P_4_calls = poisson.pmf(6, lambda_)\n",
    "print(f\"Probability of exactly 4 calls in a minute: {P_4_calls:.4f}\")"
   ]
  },
  {
   "cell_type": "code",
   "execution_count": null,
   "id": "ef8e54d5-682e-489e-99e7-46f9fdb4bf21",
   "metadata": {},
   "outputs": [],
   "source": []
  }
 ],
 "metadata": {
  "kernelspec": {
   "display_name": "Python [conda env:base] *",
   "language": "python",
   "name": "conda-base-py"
  },
  "language_info": {
   "codemirror_mode": {
    "name": "ipython",
    "version": 3
   },
   "file_extension": ".py",
   "mimetype": "text/x-python",
   "name": "python",
   "nbconvert_exporter": "python",
   "pygments_lexer": "ipython3",
   "version": "3.12.7"
  }
 },
 "nbformat": 4,
 "nbformat_minor": 5
}
